{
  "cells": [
    {
      "cell_type": "markdown",
      "metadata": {
        "id": "view-in-github",
        "colab_type": "text"
      },
      "source": [
        "<a href=\"https://colab.research.google.com/github/aderdouri/CQFDev/blob/master/Module_01/binomial_model.ipynb\" target=\"_parent\"><img src=\"https://colab.research.google.com/assets/colab-badge.svg\" alt=\"Open In Colab\"/></a>"
      ]
    },
    {
      "cell_type": "markdown",
      "source": [
        "# Step-by-Step Guide to Pricing Options Using the Binomial Model\n",
        "\n",
        "### Introduction\n",
        "The binomial model is a discrete-time method for pricing options. It simulates the possible movements of the underlying asset price over multiple time steps and calculates the option price through backward induction.\n",
        "\n",
        "### Step 1: Define the Model Parameters}\n",
        "The required parameters for the binomial tree are:\n",
        "- Current stock price: $S_0$\n",
        "- Strike price: $K$\n",
        "- Risk-free interest rate: $r$\n",
        "- Volatility: $\\sigma$\n",
        "- Time to maturity: $T$\n",
        "- Number of time steps: $N$\n",
        "\n",
        "The time step size is computed as:\n",
        "\\begin{equation}\n",
        "    \\Delta t = \\frac{T}{N}\n",
        "\\end{equation}\n",
        "\n",
        "### Step 2: Construct the Binomial Price Tree\n",
        "The up ($u$) and down ($d$) factors are defined as:\n",
        "\\begin{equation}\n",
        "    u = e^{\\sigma \\sqrt{\\Delta t}}\n",
        "\\end{equation}\n",
        "\\begin{equation}\n",
        "    d = \\frac{1}{u} = e^{-\\sigma \\sqrt{\\Delta t}}\n",
        "\\end{equation}\n",
        "The risk-neutral probability is given by:\n",
        "\\begin{equation}\n",
        "    p = \\frac{e^{r \\Delta t} - d}{u - d}\n",
        "\\end{equation}\n",
        "The stock price at each node $(i, j)$ is computed as:\n",
        "\\begin{equation}\n",
        "    S_{i,j} = S_0 \\cdot u^j \\cdot d^{i-j}\n",
        "\\end{equation}\n",
        "\n",
        "### Step 3: Compute Option Payoff at Maturity\n",
        "At expiration ($t = T$), the option value is determined by its intrinsic value:\n",
        "- European call option:\n",
        "\\begin{equation}\n",
        "    V_N^j = \\max(S_{N,j} - K, 0)\n",
        "\\end{equation}\n",
        "- European put option:\n",
        "\\begin{equation}\n",
        "    V_N^j = \\max(K - S_{N,j}, 0)\n",
        "\\end{equation}\n",
        "\n",
        "### Step 4: Backward Induction for Option Pricing\n",
        "We work backward from the terminal nodes to the initial node. The option price at each node is computed as:\n",
        "\\begin{equation}\n",
        "    V_i^j = e^{-r \\Delta t} \\cdot \\left( p \\cdot V_{i+1}^{j+1} + (1 - p) \\cdot V_{i+1}^{j} \\right)\n",
        "\\end{equation}\n",
        "For American options, the value at each node is the maximum of the intrinsic value and the continuation value:\n",
        "\\begin{equation}\n",
        "    V_i^j = \\max(\\text{Intrinsic Value}, \\text{Continuation Value})\n",
        "\\end{equation}\n",
        "\n",
        "### Step 5: Extract the Option Price\n",
        "The option price at time $t = 0$ is the value at the root node:\n",
        "\\begin{equation}\n",
        "    V_0^0\n",
        "\\end{equation}\n",
        "This represents the fair value of the option under the binomial model.\n",
        "\n",
        "## Conclusion\n",
        "The binomial model provides a simple yet powerful way to price options, allowing for flexibility in handling American options and accommodating different market conditions."
      ],
      "metadata": {
        "id": "djoRzXUkmlCd"
      }
    },
    {
      "cell_type": "code",
      "source": [
        "# prompt: implement the binomial model for option pricing\n",
        "\n",
        "import math\n",
        "\n",
        "def binomial_option_pricing(S0, K, r, sigma, T, N, option_type='call'):\n",
        "    \"\"\"\n",
        "    Prices European and American options using the binomial model.\n",
        "\n",
        "    Args:\n",
        "        S0: Current stock price.\n",
        "        K: Strike price.\n",
        "        r: Risk-free interest rate.\n",
        "        sigma: Volatility.\n",
        "        T: Time to maturity.\n",
        "        N: Number of time steps.\n",
        "        option_type: 'call' or 'put'.\n",
        "\n",
        "    Returns:\n",
        "        The option price at time t=0.\n",
        "    \"\"\"\n",
        "\n",
        "    dt = T / N\n",
        "    u = math.exp(sigma * math.sqrt(dt))\n",
        "    d = 1 / u\n",
        "    p = (math.exp(r * dt) - d) / (u - d)\n",
        "\n",
        "    # Initialize option values at maturity\n",
        "    option_values = [0] * (N + 1)\n",
        "    for j in range(N + 1):\n",
        "        S_T = S0 * (u ** j) * (d ** (N - j))\n",
        "        if option_type == 'call':\n",
        "            option_values[j] = max(0, S_T - K)\n",
        "        elif option_type == 'put':\n",
        "            option_values[j] = max(0, K - S_T)\n",
        "\n",
        "    # Backward induction\n",
        "    for i in range(N - 1, -1, -1):\n",
        "        for j in range(i + 1):\n",
        "            S_i = S0 * (u ** j) * (d ** (i - j))\n",
        "            continuation_value = math.exp(-r * dt) * (p * option_values[j + 1] + (1 - p) * option_values[j])\n",
        "\n",
        "            if option_type == 'call':\n",
        "                intrinsic_value = max(0, S_i - K)\n",
        "                option_values[j] = max(intrinsic_value, continuation_value)  # American option\n",
        "            elif option_type == 'put':\n",
        "                intrinsic_value = max(0, K-S_i)\n",
        "                option_values[j] = max(intrinsic_value,continuation_value) #American Option\n",
        "    return option_values[0]\n",
        "\n",
        "\n",
        "# Example usage:\n",
        "S0 = 100  # Current stock price\n",
        "K = 105   # Strike price\n",
        "r = 0.05  # Risk-free interest rate\n",
        "sigma = 0.2  # Volatility\n",
        "T = 1     # Time to maturity (in years)\n",
        "N = 100   # Number of time steps\n",
        "\n",
        "call_price = binomial_option_pricing(S0, K, r, sigma, T, N, option_type='call')\n",
        "put_price = binomial_option_pricing(S0, K, r, sigma, T, N, option_type='put')\n",
        "\n",
        "print(f\"Call option price: {call_price:.4f}\")\n",
        "print(f\"Put option price: {put_price:.4f}\")"
      ],
      "metadata": {
        "id": "BUCBQ9WRm-fk",
        "outputId": "e76177a0-784a-427f-f542-b7a0fd324f1c",
        "colab": {
          "base_uri": "https://localhost:8080/"
        }
      },
      "execution_count": 1,
      "outputs": [
        {
          "output_type": "stream",
          "name": "stdout",
          "text": [
            "Call option price: 8.0262\n",
            "Put option price: 8.7476\n"
          ]
        }
      ]
    },
    {
      "cell_type": "code",
      "source": [],
      "metadata": {
        "id": "xNVNta9yn37R"
      },
      "execution_count": null,
      "outputs": []
    }
  ],
  "metadata": {
    "colab": {
      "name": "Welcome To Colab",
      "toc_visible": true,
      "provenance": [],
      "include_colab_link": true
    },
    "kernelspec": {
      "display_name": "Python 3",
      "name": "python3"
    }
  },
  "nbformat": 4,
  "nbformat_minor": 0
}